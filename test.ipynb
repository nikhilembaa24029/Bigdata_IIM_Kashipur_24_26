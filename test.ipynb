{
 "cells": [
  {
   "cell_type": "code",
   "execution_count": 1,
   "metadata": {},
   "outputs": [],
   "source": [
    "import pandas as pd\n",
    "from datetime import datetime, timedelta"
   ]
  },
  {
   "cell_type": "code",
   "execution_count": 2,
   "metadata": {},
   "outputs": [],
   "source": [
    "st = pd.read_csv('data/stream_data.csv')"
   ]
  },
  {
   "cell_type": "code",
   "execution_count": 3,
   "metadata": {},
   "outputs": [],
   "source": [
    "bt = pd.read_csv('data/batch_data.csv')"
   ]
  },
  {
   "cell_type": "code",
   "execution_count": 4,
   "metadata": {},
   "outputs": [],
   "source": [
    "stmin = st.timestamp.min()\n",
    "btmax = bt.timestamp.max()"
   ]
  },
  {
   "cell_type": "code",
   "execution_count": 5,
   "metadata": {},
   "outputs": [
    {
     "data": {
      "text/plain": [
       "('2024-11-30 23:59:00', '2024-12-01 00:00:00')"
      ]
     },
     "execution_count": 5,
     "metadata": {},
     "output_type": "execute_result"
    }
   ],
   "source": [
    "btmax, stmin"
   ]
  },
  {
   "cell_type": "code",
   "execution_count": 6,
   "metadata": {},
   "outputs": [],
   "source": [
    "def get_diff(time):\n",
    "    # Parse the time string into a datetime object\n",
    "    original_time = datetime.strptime(time, '%Y-%m-%d %H:%M:%S')\n",
    "\n",
    "    checkpoint = '2024-11-30 23:59:00'\n",
    "    # Get the current time\n",
    "    current_time = datetime.strptime(checkpoint, '%Y-%m-%d %H:%M:%S')\n",
    "\n",
    "    diff = current_time - original_time\n",
    "    return diff"
   ]
  },
  {
   "cell_type": "code",
   "execution_count": 7,
   "metadata": {},
   "outputs": [],
   "source": [
    "diff_bt = get_diff(btmax)\n",
    "diff_st = get_diff(stmin)"
   ]
  },
  {
   "cell_type": "code",
   "execution_count": 8,
   "metadata": {},
   "outputs": [],
   "source": [
    "def shift_time(time, diff, tag='bt'):\n",
    "    # Parse the time string into a datetime object\n",
    "    original_time = datetime.strptime(time, '%Y-%m-%d %H:%M:%S')\n",
    "    \n",
    "    updated_time = original_time + diff\n",
    "    if tag != 'bt':\n",
    "        updated_time += timedelta(minutes=1)\n",
    "\n",
    "    updated_time_string = updated_time.strftime('%Y-%m-%d %H:%M:%S')\n",
    "    return updated_time_string\n"
   ]
  },
  {
   "cell_type": "code",
   "execution_count": 9,
   "metadata": {},
   "outputs": [],
   "source": [
    "bt['timestamp'] = bt['timestamp'].map(lambda time: shift_time(time, diff_bt, tag='bt'))"
   ]
  },
  {
   "cell_type": "code",
   "execution_count": 10,
   "metadata": {},
   "outputs": [],
   "source": [
    "st['timestamp'] = st['timestamp'].map(lambda time: shift_time(time, diff_st, tag='st'))"
   ]
  },
  {
   "cell_type": "code",
   "execution_count": 11,
   "metadata": {},
   "outputs": [],
   "source": [
    "# bt.to_csv('data/batch_data.csv', index=False)\n",
    "# st.to_csv('data/stream_data.csv', index=False)"
   ]
  },
  {
   "cell_type": "code",
   "execution_count": 12,
   "metadata": {},
   "outputs": [
    {
     "data": {
      "text/html": [
       "<div>\n",
       "<style scoped>\n",
       "    .dataframe tbody tr th:only-of-type {\n",
       "        vertical-align: middle;\n",
       "    }\n",
       "\n",
       "    .dataframe tbody tr th {\n",
       "        vertical-align: top;\n",
       "    }\n",
       "\n",
       "    .dataframe thead th {\n",
       "        text-align: right;\n",
       "    }\n",
       "</style>\n",
       "<table border=\"1\" class=\"dataframe\">\n",
       "  <thead>\n",
       "    <tr style=\"text-align: right;\">\n",
       "      <th></th>\n",
       "      <th>timestamp</th>\n",
       "      <th>open</th>\n",
       "      <th>high</th>\n",
       "      <th>low</th>\n",
       "      <th>close</th>\n",
       "      <th>volume</th>\n",
       "    </tr>\n",
       "  </thead>\n",
       "  <tbody>\n",
       "    <tr>\n",
       "      <th>0</th>\n",
       "      <td>2024-11-01 00:00:00</td>\n",
       "      <td>27991.84</td>\n",
       "      <td>27991.84</td>\n",
       "      <td>27981.53</td>\n",
       "      <td>27983.27</td>\n",
       "      <td>16.04929</td>\n",
       "    </tr>\n",
       "    <tr>\n",
       "      <th>1</th>\n",
       "      <td>2024-11-01 00:01:00</td>\n",
       "      <td>27983.28</td>\n",
       "      <td>27983.28</td>\n",
       "      <td>27954.07</td>\n",
       "      <td>27954.07</td>\n",
       "      <td>37.46222</td>\n",
       "    </tr>\n",
       "    <tr>\n",
       "      <th>2</th>\n",
       "      <td>2024-11-01 00:02:00</td>\n",
       "      <td>27954.08</td>\n",
       "      <td>27955.45</td>\n",
       "      <td>27922.92</td>\n",
       "      <td>27929.57</td>\n",
       "      <td>25.89664</td>\n",
       "    </tr>\n",
       "    <tr>\n",
       "      <th>3</th>\n",
       "      <td>2024-11-01 00:03:00</td>\n",
       "      <td>27930.08</td>\n",
       "      <td>27943.82</td>\n",
       "      <td>27878.60</td>\n",
       "      <td>27894.39</td>\n",
       "      <td>239.28080</td>\n",
       "    </tr>\n",
       "    <tr>\n",
       "      <th>4</th>\n",
       "      <td>2024-11-01 00:04:00</td>\n",
       "      <td>27894.42</td>\n",
       "      <td>27920.00</td>\n",
       "      <td>27891.06</td>\n",
       "      <td>27919.53</td>\n",
       "      <td>55.03403</td>\n",
       "    </tr>\n",
       "    <tr>\n",
       "      <th>...</th>\n",
       "      <td>...</td>\n",
       "      <td>...</td>\n",
       "      <td>...</td>\n",
       "      <td>...</td>\n",
       "      <td>...</td>\n",
       "      <td>...</td>\n",
       "    </tr>\n",
       "    <tr>\n",
       "      <th>43195</th>\n",
       "      <td>2024-11-30 23:55:00</td>\n",
       "      <td>29612.04</td>\n",
       "      <td>29622.90</td>\n",
       "      <td>29598.22</td>\n",
       "      <td>29607.77</td>\n",
       "      <td>48.64359</td>\n",
       "    </tr>\n",
       "    <tr>\n",
       "      <th>43196</th>\n",
       "      <td>2024-11-30 23:56:00</td>\n",
       "      <td>29607.78</td>\n",
       "      <td>29610.09</td>\n",
       "      <td>29606.36</td>\n",
       "      <td>29610.08</td>\n",
       "      <td>4.51003</td>\n",
       "    </tr>\n",
       "    <tr>\n",
       "      <th>43197</th>\n",
       "      <td>2024-11-30 23:57:00</td>\n",
       "      <td>29610.09</td>\n",
       "      <td>29630.84</td>\n",
       "      <td>29608.87</td>\n",
       "      <td>29627.81</td>\n",
       "      <td>13.69622</td>\n",
       "    </tr>\n",
       "    <tr>\n",
       "      <th>43198</th>\n",
       "      <td>2024-11-30 23:58:00</td>\n",
       "      <td>29627.81</td>\n",
       "      <td>29639.54</td>\n",
       "      <td>29611.49</td>\n",
       "      <td>29611.50</td>\n",
       "      <td>23.02537</td>\n",
       "    </tr>\n",
       "    <tr>\n",
       "      <th>43199</th>\n",
       "      <td>2024-11-30 23:59:00</td>\n",
       "      <td>29611.49</td>\n",
       "      <td>29625.83</td>\n",
       "      <td>29584.92</td>\n",
       "      <td>29584.92</td>\n",
       "      <td>35.57050</td>\n",
       "    </tr>\n",
       "  </tbody>\n",
       "</table>\n",
       "<p>43200 rows × 6 columns</p>\n",
       "</div>"
      ],
      "text/plain": [
       "                 timestamp      open      high       low     close     volume\n",
       "0      2024-11-01 00:00:00  27991.84  27991.84  27981.53  27983.27   16.04929\n",
       "1      2024-11-01 00:01:00  27983.28  27983.28  27954.07  27954.07   37.46222\n",
       "2      2024-11-01 00:02:00  27954.08  27955.45  27922.92  27929.57   25.89664\n",
       "3      2024-11-01 00:03:00  27930.08  27943.82  27878.60  27894.39  239.28080\n",
       "4      2024-11-01 00:04:00  27894.42  27920.00  27891.06  27919.53   55.03403\n",
       "...                    ...       ...       ...       ...       ...        ...\n",
       "43195  2024-11-30 23:55:00  29612.04  29622.90  29598.22  29607.77   48.64359\n",
       "43196  2024-11-30 23:56:00  29607.78  29610.09  29606.36  29610.08    4.51003\n",
       "43197  2024-11-30 23:57:00  29610.09  29630.84  29608.87  29627.81   13.69622\n",
       "43198  2024-11-30 23:58:00  29627.81  29639.54  29611.49  29611.50   23.02537\n",
       "43199  2024-11-30 23:59:00  29611.49  29625.83  29584.92  29584.92   35.57050\n",
       "\n",
       "[43200 rows x 6 columns]"
      ]
     },
     "execution_count": 12,
     "metadata": {},
     "output_type": "execute_result"
    }
   ],
   "source": [
    "bt"
   ]
  },
  {
   "cell_type": "code",
   "execution_count": 13,
   "metadata": {},
   "outputs": [
    {
     "data": {
      "text/html": [
       "<div>\n",
       "<style scoped>\n",
       "    .dataframe tbody tr th:only-of-type {\n",
       "        vertical-align: middle;\n",
       "    }\n",
       "\n",
       "    .dataframe tbody tr th {\n",
       "        vertical-align: top;\n",
       "    }\n",
       "\n",
       "    .dataframe thead th {\n",
       "        text-align: right;\n",
       "    }\n",
       "</style>\n",
       "<table border=\"1\" class=\"dataframe\">\n",
       "  <thead>\n",
       "    <tr style=\"text-align: right;\">\n",
       "      <th></th>\n",
       "      <th>timestamp</th>\n",
       "      <th>open</th>\n",
       "      <th>high</th>\n",
       "      <th>low</th>\n",
       "      <th>close</th>\n",
       "      <th>volume</th>\n",
       "    </tr>\n",
       "  </thead>\n",
       "  <tbody>\n",
       "    <tr>\n",
       "      <th>0</th>\n",
       "      <td>2024-12-01 00:00:00</td>\n",
       "      <td>29584.92</td>\n",
       "      <td>29587.77</td>\n",
       "      <td>29575.44</td>\n",
       "      <td>29577.73</td>\n",
       "      <td>26.78170</td>\n",
       "    </tr>\n",
       "    <tr>\n",
       "      <th>1</th>\n",
       "      <td>2024-12-01 00:01:00</td>\n",
       "      <td>29577.73</td>\n",
       "      <td>29580.85</td>\n",
       "      <td>29565.24</td>\n",
       "      <td>29569.94</td>\n",
       "      <td>44.94119</td>\n",
       "    </tr>\n",
       "    <tr>\n",
       "      <th>2</th>\n",
       "      <td>2024-12-01 00:02:00</td>\n",
       "      <td>29569.94</td>\n",
       "      <td>29569.96</td>\n",
       "      <td>29539.59</td>\n",
       "      <td>29549.03</td>\n",
       "      <td>60.39912</td>\n",
       "    </tr>\n",
       "    <tr>\n",
       "      <th>3</th>\n",
       "      <td>2024-12-01 00:03:00</td>\n",
       "      <td>29549.03</td>\n",
       "      <td>29550.71</td>\n",
       "      <td>29527.00</td>\n",
       "      <td>29539.16</td>\n",
       "      <td>77.06884</td>\n",
       "    </tr>\n",
       "    <tr>\n",
       "      <th>4</th>\n",
       "      <td>2024-12-01 00:04:00</td>\n",
       "      <td>29539.16</td>\n",
       "      <td>29556.71</td>\n",
       "      <td>29539.16</td>\n",
       "      <td>29548.34</td>\n",
       "      <td>33.71610</td>\n",
       "    </tr>\n",
       "    <tr>\n",
       "      <th>...</th>\n",
       "      <td>...</td>\n",
       "      <td>...</td>\n",
       "      <td>...</td>\n",
       "      <td>...</td>\n",
       "      <td>...</td>\n",
       "      <td>...</td>\n",
       "    </tr>\n",
       "    <tr>\n",
       "      <th>125995</th>\n",
       "      <td>2025-02-26 11:55:00</td>\n",
       "      <td>28896.00</td>\n",
       "      <td>28907.42</td>\n",
       "      <td>28893.03</td>\n",
       "      <td>28907.41</td>\n",
       "      <td>37.74657</td>\n",
       "    </tr>\n",
       "    <tr>\n",
       "      <th>125996</th>\n",
       "      <td>2025-02-26 11:56:00</td>\n",
       "      <td>28907.41</td>\n",
       "      <td>28912.74</td>\n",
       "      <td>28907.41</td>\n",
       "      <td>28908.53</td>\n",
       "      <td>15.89610</td>\n",
       "    </tr>\n",
       "    <tr>\n",
       "      <th>125997</th>\n",
       "      <td>2025-02-26 11:57:00</td>\n",
       "      <td>28908.52</td>\n",
       "      <td>28908.53</td>\n",
       "      <td>28902.48</td>\n",
       "      <td>28902.49</td>\n",
       "      <td>11.52263</td>\n",
       "    </tr>\n",
       "    <tr>\n",
       "      <th>125998</th>\n",
       "      <td>2025-02-26 11:58:00</td>\n",
       "      <td>28902.48</td>\n",
       "      <td>28902.49</td>\n",
       "      <td>28902.48</td>\n",
       "      <td>28902.49</td>\n",
       "      <td>4.77589</td>\n",
       "    </tr>\n",
       "    <tr>\n",
       "      <th>125999</th>\n",
       "      <td>2025-02-26 11:59:00</td>\n",
       "      <td>28902.48</td>\n",
       "      <td>28902.49</td>\n",
       "      <td>28902.48</td>\n",
       "      <td>28902.49</td>\n",
       "      <td>4.68658</td>\n",
       "    </tr>\n",
       "  </tbody>\n",
       "</table>\n",
       "<p>126000 rows × 6 columns</p>\n",
       "</div>"
      ],
      "text/plain": [
       "                  timestamp      open      high       low     close    volume\n",
       "0       2024-12-01 00:00:00  29584.92  29587.77  29575.44  29577.73  26.78170\n",
       "1       2024-12-01 00:01:00  29577.73  29580.85  29565.24  29569.94  44.94119\n",
       "2       2024-12-01 00:02:00  29569.94  29569.96  29539.59  29549.03  60.39912\n",
       "3       2024-12-01 00:03:00  29549.03  29550.71  29527.00  29539.16  77.06884\n",
       "4       2024-12-01 00:04:00  29539.16  29556.71  29539.16  29548.34  33.71610\n",
       "...                     ...       ...       ...       ...       ...       ...\n",
       "125995  2025-02-26 11:55:00  28896.00  28907.42  28893.03  28907.41  37.74657\n",
       "125996  2025-02-26 11:56:00  28907.41  28912.74  28907.41  28908.53  15.89610\n",
       "125997  2025-02-26 11:57:00  28908.52  28908.53  28902.48  28902.49  11.52263\n",
       "125998  2025-02-26 11:58:00  28902.48  28902.49  28902.48  28902.49   4.77589\n",
       "125999  2025-02-26 11:59:00  28902.48  28902.49  28902.48  28902.49   4.68658\n",
       "\n",
       "[126000 rows x 6 columns]"
      ]
     },
     "execution_count": 13,
     "metadata": {},
     "output_type": "execute_result"
    }
   ],
   "source": [
    "st"
   ]
  },
  {
   "cell_type": "code",
   "execution_count": 25,
   "metadata": {},
   "outputs": [],
   "source": [
    "raw = st.iloc[:2].to_dict()"
   ]
  },
  {
   "cell_type": "code",
   "execution_count": 26,
   "metadata": {},
   "outputs": [
    {
     "data": {
      "text/plain": [
       "{'timestamp': {0: '2024-12-01 00:00:00', 1: '2024-12-01 00:01:00'},\n",
       " 'open': {0: 29584.92, 1: 29577.73},\n",
       " 'high': {0: 29587.77, 1: 29580.85},\n",
       " 'low': {0: 29575.44, 1: 29565.24},\n",
       " 'close': {0: 29577.73, 1: 29569.94},\n",
       " 'volume': {0: 26.7817, 1: 44.94119}}"
      ]
     },
     "execution_count": 26,
     "metadata": {},
     "output_type": "execute_result"
    }
   ],
   "source": [
    "raw"
   ]
  },
  {
   "cell_type": "code",
   "execution_count": 27,
   "metadata": {},
   "outputs": [],
   "source": [
    "# Prepare the header (column names) and rows (data)\n",
    "header = list(raw.keys())\n",
    "rows = [ [raw[col][i] for col in header] for i in range(len(raw['timestamp'])) ]"
   ]
  },
  {
   "cell_type": "code",
   "execution_count": 28,
   "metadata": {},
   "outputs": [
    {
     "data": {
      "text/plain": [
       "['timestamp', 'open', 'high', 'low', 'close', 'volume']"
      ]
     },
     "execution_count": 28,
     "metadata": {},
     "output_type": "execute_result"
    }
   ],
   "source": [
    "header"
   ]
  },
  {
   "cell_type": "code",
   "execution_count": 29,
   "metadata": {},
   "outputs": [
    {
     "data": {
      "text/plain": [
       "[['2024-12-01 00:00:00', 29584.92, 29587.77, 29575.44, 29577.73, 26.7817],\n",
       " ['2024-12-01 00:01:00', 29577.73, 29580.85, 29565.24, 29569.94, 44.94119]]"
      ]
     },
     "execution_count": 29,
     "metadata": {},
     "output_type": "execute_result"
    }
   ],
   "source": [
    "rows"
   ]
  },
  {
   "cell_type": "code",
   "execution_count": 30,
   "metadata": {},
   "outputs": [
    {
     "name": "stdout",
     "output_type": "stream",
     "text": [
      "Data has been written to 'output.csv'\n"
     ]
    }
   ],
   "source": [
    "\n",
    "# Write to CSV\n",
    "with open('output.csv', mode='w') as file:    \n",
    "    # Write the header\n",
    "    file.write(f'{\",\".join(map(str, header))}')\n",
    "    \n",
    "    # Write the rows\n",
    "    for row in rows:\n",
    "        file.write(f\"{','.join(map(str, row))}\\n\")\n",
    "\n",
    "print(\"Data has been written to 'output.csv'\")"
   ]
  },
  {
   "cell_type": "code",
   "execution_count": 12,
   "metadata": {},
   "outputs": [],
   "source": [
    "data = {'timestamp': {'0': '2024-12-01 00:00:00', '1': '2024-12-01 00:01:00'},\n",
    " 'open': {'0': 29584.92, '1': 29577.73},\n",
    " 'high': {'0': 29587.77, '1': 29580.85},\n",
    " 'low': {'0': 29575.44, '1': 29565.24},\n",
    " 'close': {'0': 29577.73, '1': 29569.94},\n",
    " 'volume': {'0': 26.7817, '1': 44.94119}}"
   ]
  },
  {
   "cell_type": "code",
   "execution_count": 13,
   "metadata": {},
   "outputs": [],
   "source": [
    "def prepare_data(data):\n",
    "    # Normalize into a list of dictionaries\n",
    "    normalized_data = [\n",
    "        {key: value[str(idx)] for key, value in data.items()}\n",
    "        for idx in range(len(next(iter(data.values()))))\n",
    "    ]\n",
    "    return normalized_data"
   ]
  },
  {
   "cell_type": "code",
   "execution_count": 14,
   "metadata": {},
   "outputs": [
    {
     "data": {
      "text/plain": [
       "[{'timestamp': '2024-12-01 00:00:00',\n",
       "  'open': 29584.92,\n",
       "  'high': 29587.77,\n",
       "  'low': 29575.44,\n",
       "  'close': 29577.73,\n",
       "  'volume': 26.7817},\n",
       " {'timestamp': '2024-12-01 00:01:00',\n",
       "  'open': 29577.73,\n",
       "  'high': 29580.85,\n",
       "  'low': 29565.24,\n",
       "  'close': 29569.94,\n",
       "  'volume': 44.94119}]"
      ]
     },
     "execution_count": 14,
     "metadata": {},
     "output_type": "execute_result"
    }
   ],
   "source": [
    "prepare_data(data)"
   ]
  },
  {
   "cell_type": "code",
   "execution_count": null,
   "metadata": {},
   "outputs": [],
   "source": []
  }
 ],
 "metadata": {
  "kernelspec": {
   "display_name": ".venv",
   "language": "python",
   "name": "python3"
  },
  "language_info": {
   "codemirror_mode": {
    "name": "ipython",
    "version": 3
   },
   "file_extension": ".py",
   "mimetype": "text/x-python",
   "name": "python",
   "nbconvert_exporter": "python",
   "pygments_lexer": "ipython3",
   "version": "3.12.3"
  }
 },
 "nbformat": 4,
 "nbformat_minor": 2
}
